{
  "nbformat": 4,
  "nbformat_minor": 0,
  "metadata": {
    "colab": {
      "name": "파이썬 3일_1번째시간.ipynb의 사본",
      "provenance": [],
      "toc_visible": true,
      "authorship_tag": "ABX9TyPeipM6Lntmd341sJ+0ewO0",
      "include_colab_link": true
    },
    "kernelspec": {
      "name": "python3",
      "display_name": "Python 3"
    }
  },
  "cells": [
    {
      "cell_type": "markdown",
      "metadata": {
        "id": "view-in-github",
        "colab_type": "text"
      },
      "source": [
        "<a href=\"https://colab.research.google.com/github/LeeM21/python/blob/master/%ED%8C%8C%EC%9D%B4%EC%8D%AC_3%EC%9D%BC_1%EB%B2%88%EC%A7%B8%EC%8B%9C%EA%B0%84_ipynb%EC%9D%98_%EC%82%AC%EB%B3%B8.ipynb\" target=\"_parent\"><img src=\"https://colab.research.google.com/assets/colab-badge.svg\" alt=\"Open In Colab\"/></a>"
      ]
    },
    {
      "cell_type": "markdown",
      "metadata": {
        "id": "kC8_JC4a71to",
        "colab_type": "text"
      },
      "source": [
        "# **Date_Type**"
      ]
    },
    {
      "cell_type": "markdown",
      "metadata": {
        "id": "uomCGM_n4A4D",
        "colab_type": "text"
      },
      "source": [
        "## **Data Type_Dictinoary**\n",
        "```\n",
        "#dic = {1: '홍석찬' , '최경민', '30213'}\n",
        "```\n"
      ]
    },
    {
      "cell_type": "code",
      "metadata": {
        "id": "-AmaDSjw4s7q",
        "colab_type": "code",
        "colab": {}
      },
      "source": [
        "dic={ '멋쟁이':'홍석찬','핵인싸':'최경민',3:30213}\n"
      ],
      "execution_count": 0,
      "outputs": []
    },
    {
      "cell_type": "code",
      "metadata": {
        "id": "-zsF-THG511W",
        "colab_type": "code",
        "outputId": "8c9c7c5f-8364-43b3-9e76-2b46ca87e115",
        "colab": {
          "base_uri": "https://localhost:8080/",
          "height": 35
        }
      },
      "source": [
        "dic['멋쟁이'],dic['핵인싸'],dic[3]"
      ],
      "execution_count": 0,
      "outputs": [
        {
          "output_type": "execute_result",
          "data": {
            "text/plain": [
              "('홍석찬', '최경민', 30213)"
            ]
          },
          "metadata": {
            "tags": []
          },
          "execution_count": 16
        }
      ]
    },
    {
      "cell_type": "code",
      "metadata": {
        "id": "BBsdWj217GNB",
        "colab_type": "code",
        "outputId": "70a56646-a1c0-4b7e-f342-b1241a7ec733",
        "colab": {
          "base_uri": "https://localhost:8080/",
          "height": 35
        }
      },
      "source": [
        "dic.get('멋쟁이')"
      ],
      "execution_count": 0,
      "outputs": [
        {
          "output_type": "execute_result",
          "data": {
            "text/plain": [
              "'홍석찬'"
            ]
          },
          "metadata": {
            "tags": []
          },
          "execution_count": 13
        }
      ]
    },
    {
      "cell_type": "code",
      "metadata": {
        "id": "cPQXbajK7To-",
        "colab_type": "code",
        "outputId": "386213d9-3e54-4106-ad35-9523c0f1278f",
        "colab": {
          "base_uri": "https://localhost:8080/",
          "height": 35
        }
      },
      "source": [
        "dic.values()"
      ],
      "execution_count": 0,
      "outputs": [
        {
          "output_type": "execute_result",
          "data": {
            "text/plain": [
              "dict_values(['홍석찬', '최경민', 30213])"
            ]
          },
          "metadata": {
            "tags": []
          },
          "execution_count": 17
        }
      ]
    },
    {
      "cell_type": "code",
      "metadata": {
        "id": "LqWwjk387fH0",
        "colab_type": "code",
        "outputId": "49129260-4e3e-4e32-e536-a82254cc950f",
        "colab": {
          "base_uri": "https://localhost:8080/",
          "height": 35
        }
      },
      "source": [
        "dic.items()"
      ],
      "execution_count": 0,
      "outputs": [
        {
          "output_type": "execute_result",
          "data": {
            "text/plain": [
              "dict_items([('멋쟁이', '홍석찬'), ('핵인싸', '최경민'), (3, 30213)])"
            ]
          },
          "metadata": {
            "tags": []
          },
          "execution_count": 19
        }
      ]
    },
    {
      "cell_type": "code",
      "metadata": {
        "id": "fQqSEff-7jEv",
        "colab_type": "code",
        "outputId": "d0904b72-755f-492b-f374-8c41ee0920ed",
        "colab": {
          "base_uri": "https://localhost:8080/",
          "height": 35
        }
      },
      "source": [
        "dic.keys()"
      ],
      "execution_count": 0,
      "outputs": [
        {
          "output_type": "execute_result",
          "data": {
            "text/plain": [
              "dict_keys(['멋쟁이', '핵인싸', 3])"
            ]
          },
          "metadata": {
            "tags": []
          },
          "execution_count": 20
        }
      ]
    },
    {
      "cell_type": "code",
      "metadata": {
        "id": "d-BqDwrM7lJW",
        "colab_type": "code",
        "colab": {}
      },
      "source": [
        ""
      ],
      "execution_count": 0,
      "outputs": []
    },
    {
      "cell_type": "code",
      "metadata": {
        "id": "LmIi_PFN6FTI",
        "colab_type": "code",
        "outputId": "5702a41d-4c84-4aa1-ff62-b7649154f07b",
        "colab": {
          "base_uri": "https://localhost:8080/",
          "height": 35
        }
      },
      "source": [
        "a='인천정보산업고등학교'\n",
        "type(a)"
      ],
      "execution_count": 0,
      "outputs": [
        {
          "output_type": "execute_result",
          "data": {
            "text/plain": [
              "str"
            ]
          },
          "metadata": {
            "tags": []
          },
          "execution_count": 5
        }
      ]
    },
    {
      "cell_type": "code",
      "metadata": {
        "id": "h92z7M486J7e",
        "colab_type": "code",
        "outputId": "68b74b21-64f9-4f03-b801-25c9bf16363c",
        "colab": {
          "base_uri": "https://localhost:8080/",
          "height": 35
        }
      },
      "source": [
        "type(dic)"
      ],
      "execution_count": 0,
      "outputs": [
        {
          "output_type": "execute_result",
          "data": {
            "text/plain": [
              "dict"
            ]
          },
          "metadata": {
            "tags": []
          },
          "execution_count": 14
        }
      ]
    },
    {
      "cell_type": "code",
      "metadata": {
        "id": "MLKv66IL6M1u",
        "colab_type": "code",
        "outputId": "2792cc2a-81ae-4c41-e393-310f33bc4bc7",
        "colab": {
          "base_uri": "https://localhost:8080/",
          "height": 35
        }
      },
      "source": [
        "b=[1,2,3,4,5]\n",
        "type(b)\n",
        "b[0]=8\n",
        "b"
      ],
      "execution_count": 0,
      "outputs": [
        {
          "output_type": "execute_result",
          "data": {
            "text/plain": [
              "[8, 2, 3, 4, 5]"
            ]
          },
          "metadata": {
            "tags": []
          },
          "execution_count": 8
        }
      ]
    },
    {
      "cell_type": "code",
      "metadata": {
        "id": "kECW1tlc6ngu",
        "colab_type": "code",
        "outputId": "b0f23079-b131-4ba3-ce8b-65170c4b7cb0",
        "colab": {
          "base_uri": "https://localhost:8080/",
          "height": 222
        }
      },
      "source": [
        "c=1,2,3,4,5\n",
        "type(c)\n",
        "c[0]=5\n",
        "c"
      ],
      "execution_count": 0,
      "outputs": [
        {
          "output_type": "error",
          "ename": "TypeError",
          "evalue": "ignored",
          "traceback": [
            "\u001b[0;31m---------------------------------------------------------------------------\u001b[0m",
            "\u001b[0;31mTypeError\u001b[0m                                 Traceback (most recent call last)",
            "\u001b[0;32m<ipython-input-3-eb3631204ef0>\u001b[0m in \u001b[0;36m<module>\u001b[0;34m()\u001b[0m\n\u001b[1;32m      1\u001b[0m \u001b[0mc\u001b[0m\u001b[0;34m=\u001b[0m\u001b[0;36m1\u001b[0m\u001b[0;34m,\u001b[0m\u001b[0;36m2\u001b[0m\u001b[0;34m,\u001b[0m\u001b[0;36m3\u001b[0m\u001b[0;34m,\u001b[0m\u001b[0;36m4\u001b[0m\u001b[0;34m,\u001b[0m\u001b[0;36m5\u001b[0m\u001b[0;34m\u001b[0m\u001b[0;34m\u001b[0m\u001b[0m\n\u001b[1;32m      2\u001b[0m \u001b[0mtype\u001b[0m\u001b[0;34m(\u001b[0m\u001b[0mc\u001b[0m\u001b[0;34m)\u001b[0m\u001b[0;34m\u001b[0m\u001b[0;34m\u001b[0m\u001b[0m\n\u001b[0;32m----> 3\u001b[0;31m \u001b[0mc\u001b[0m\u001b[0;34m[\u001b[0m\u001b[0;36m0\u001b[0m\u001b[0;34m]\u001b[0m\u001b[0;34m=\u001b[0m\u001b[0;36m5\u001b[0m\u001b[0;34m\u001b[0m\u001b[0;34m\u001b[0m\u001b[0m\n\u001b[0m\u001b[1;32m      4\u001b[0m \u001b[0mc\u001b[0m\u001b[0;34m\u001b[0m\u001b[0;34m\u001b[0m\u001b[0m\n",
            "\u001b[0;31mTypeError\u001b[0m: 'tuple' object does not support item assignment"
          ]
        }
      ]
    },
    {
      "cell_type": "markdown",
      "metadata": {
        "id": "jMHxIe_R8F3Y",
        "colab_type": "text"
      },
      "source": [
        "# [문제풀이]\n",
        "\n",
        "[문제1]'*'문자를 100번 출력하기\n",
        "\n",
        "[문제2]input() 내장 함수를 이용하여 id에 입력을 받기\n",
        "\n",
        "[문제3]나의 나이를 입력받아 (변수:gap) 환갑이 되는 나이 년도 구해보기'당신이 환갑이 되는 년도는 2032년 입니다.'와 같이 출력해보기\n",
        "\n",
        "[문제4]두개의 숫자를 입력받아**,%,/,//"
      ]
    },
    {
      "cell_type": "code",
      "metadata": {
        "id": "w4NJDkX18eVo",
        "colab_type": "code",
        "outputId": "7774a7fa-9df0-4791-864f-6325cb7aaa4b",
        "colab": {
          "base_uri": "https://localhost:8080/",
          "height": 35
        }
      },
      "source": [
        "print('*'*100)"
      ],
      "execution_count": 0,
      "outputs": [
        {
          "output_type": "stream",
          "text": [
            "****************************************************************************************************\n"
          ],
          "name": "stdout"
        }
      ]
    },
    {
      "cell_type": "code",
      "metadata": {
        "id": "-fDDmsu2FJyp",
        "colab_type": "code",
        "outputId": "c80fcfe5-6717-4926-9174-f44d573913b6",
        "colab": {
          "base_uri": "https://localhost:8080/",
          "height": 53
        }
      },
      "source": [
        "id = input('id를 입력하세요:')\n",
        "print(id+'님 안녕하세요')"
      ],
      "execution_count": 0,
      "outputs": [
        {
          "output_type": "stream",
          "text": [
            "id를 입력하세요:lmy201\n",
            "lmy201님 안녕하세요\n"
          ],
          "name": "stdout"
        }
      ]
    },
    {
      "cell_type": "code",
      "metadata": {
        "id": "6aRZcXDDFKSc",
        "colab_type": "code",
        "outputId": "6233d73c-c2e9-4902-a59e-f6d1dd55b89e",
        "colab": {
          "base_uri": "https://localhost:8080/",
          "height": 52
        }
      },
      "source": [
        "gap = int(input('태어난 년도를 입력 >>> '))\n",
        "h = gap+60\n",
        "print('당신이 환갑이 되는 년도는 ',h,'년 입니다.')"
      ],
      "execution_count": 0,
      "outputs": [
        {
          "output_type": "stream",
          "text": [
            "태어난 년도를 입력 >>> 2002\n",
            "당신이 환갑이 되는 년도는  2062 년 입니다.\n"
          ],
          "name": "stdout"
        }
      ]
    },
    {
      "cell_type": "code",
      "metadata": {
        "id": "HIo3BtXmJlrE",
        "colab_type": "code",
        "outputId": "b2800a27-4d7d-4002-e7ef-c4a879d421bf",
        "colab": {
          "base_uri": "https://localhost:8080/",
          "height": 35
        }
      },
      "source": [
        "type(h)"
      ],
      "execution_count": 0,
      "outputs": [
        {
          "output_type": "execute_result",
          "data": {
            "text/plain": [
              "int"
            ]
          },
          "metadata": {
            "tags": []
          },
          "execution_count": 53
        }
      ]
    },
    {
      "cell_type": "code",
      "metadata": {
        "id": "LTxZtfcxJpFB",
        "colab_type": "code",
        "outputId": "598071c7-32cc-4c89-d275-9156bcdc4765",
        "colab": {
          "base_uri": "https://localhost:8080/",
          "height": 35
        }
      },
      "source": [
        "type(gap)"
      ],
      "execution_count": 0,
      "outputs": [
        {
          "output_type": "execute_result",
          "data": {
            "text/plain": [
              "int"
            ]
          },
          "metadata": {
            "tags": []
          },
          "execution_count": 56
        }
      ]
    },
    {
      "cell_type": "code",
      "metadata": {
        "id": "hIa3vFe3FzNx",
        "colab_type": "code",
        "outputId": "34eb385f-4d21-45d6-86d6-f40245d88c4b",
        "colab": {
          "base_uri": "https://localhost:8080/",
          "height": 143
        }
      },
      "source": [
        "a= input('두개의 숫자 입력 >> ').split()\n",
        "b = int(a[0])\n",
        "c = int(a[1])\n",
        "\n",
        "print('첫번째 입력숫자 a')\n",
        "print('두번째 입력숫자 b')\n",
        "print(b**c)\n",
        "print(b%c)\n",
        "print(b/c)\n",
        "print(b//c)"
      ],
      "execution_count": 0,
      "outputs": [
        {
          "output_type": "stream",
          "text": [
            "두개의 숫자 입력 >> 3 1\n",
            "첫번째 입력숫자 a\n",
            "두번째 입력숫자 b\n",
            "3\n",
            "0\n",
            "3.0\n",
            "3\n"
          ],
          "name": "stdout"
        }
      ]
    },
    {
      "cell_type": "markdown",
      "metadata": {
        "id": "Y4mxFwk0hWbq",
        "colab_type": "text"
      },
      "source": [
        "#**[배운내용 정리]**\n",
        "1.dic= dictionary, immutable(불변한)한 키(key)와 mutable한 값(value)으로 맵핑되어 있는 순서가 없는 집합\n",
        "*   dic[1 : ' a ' ,2 : ' s ']\n",
        "*   dic['ad'] = 5 \n",
        "\n",
        "2.입력함수 input( )\n"
      ]
    }
  ]
}