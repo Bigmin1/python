{
 "cells": [
  {
   "cell_type": "markdown",
   "metadata": {},
   "source": [
    "## 도형그리기"
   ]
  },
  {
   "cell_type": "code",
   "execution_count": 1,
   "metadata": {},
   "outputs": [],
   "source": [
    "from turtle import *\n",
    "color('red', 'yellow')\n",
    "begin_fill()\n",
    "while True:\n",
    "    forward(200)\n",
    "    left(170)\n",
    "    if abs(pos()) < 1:\n",
    "        break\n",
    "end_fill()\n",
    "done()"
   ]
  },
  {
   "cell_type": "code",
   "execution_count": 26,
   "metadata": {},
   "outputs": [],
   "source": [
    "import turtle as t\n",
    "t.clear()\n",
    "t.shape('turtle')\n",
    "t.fd(200)\n",
    "t.left(120)\n",
    "t.fd(200)\n",
    "t.left(120)\n",
    "t.fd(200)\n",
    "t.exitonclick()"
   ]
  },
  {
   "cell_type": "code",
   "execution_count": 28,
   "metadata": {},
   "outputs": [],
   "source": [
    "import turtle as t\n",
    "t.clear()\n",
    "t.shape('turtle')\n",
    "t.fd(200)\n",
    "t.left(90)\n",
    "t.fd(200)\n",
    "t.left(90)\n",
    "t.fd(200)\n",
    "t.left(90)\n",
    "t.fd(200)\n",
    "t.exitonclick()"
   ]
  },
  {
   "cell_type": "code",
   "execution_count": 36,
   "metadata": {},
   "outputs": [],
   "source": [
    "import turtle as t\n",
    "t.clear()\n",
    "t.shape('turtle')\n",
    "for i in range(4) :\n",
    "    t.fd(200)\n",
    "    t.left(90)\n",
    "t.exitonclick()"
   ]
  },
  {
   "cell_type": "code",
   "execution_count": 38,
   "metadata": {},
   "outputs": [],
   "source": [
    "import turtle as t\n",
    "t.clear()\n",
    "t.shape('turtle')\n",
    "for i in range(5) :\n",
    "    t.fd(200)\n",
    "    t.left(72)\n",
    "t.exitonclick()"
   ]
  },
  {
   "cell_type": "code",
   "execution_count": 22,
   "metadata": {},
   "outputs": [
    {
     "name": "stdout",
     "output_type": "stream",
     "text": [
      "몇각형 그려줘 >>>15\n"
     ]
    }
   ],
   "source": [
    "angle = int(input('몇각형 그려줘 >>>'))\n",
    "import turtle as t\n",
    "t.clear\n",
    "t.shape('turtle')\n",
    "t.color(\"red\",\"gold\")\n",
    "t.begin_fill()\n",
    "for i in range(angle) :\n",
    "    for i in range(angle) :\n",
    "        t.fd(50)\n",
    "        t.left(360/angle)\n",
    "    t.fd(100)\n",
    "    t.left(360/angle)\n",
    "\n",
    "t.end_fill()\n",
    "t.exitonclick()"
   ]
  },
  {
   "cell_type": "code",
   "execution_count": 30,
   "metadata": {},
   "outputs": [
    {
     "name": "stdout",
     "output_type": "stream",
     "text": [
      "몇각형 그려줘 >>>5\n"
     ]
    }
   ],
   "source": [
    "angle = int(input('몇각형 그려줘 >>>'))\n",
    "import turtle as t\n",
    "t.clear\n",
    "t.hideturtle()\n",
    "t.shape('turtle')\n",
    "t.color(\"red\",\"gold\")\n",
    "t.begin_fill()\n",
    "for i in range(angle) :\n",
    "    for i in range(angle) :\n",
    "        t.fd(50)\n",
    "        t.left(360/angle)\n",
    "    t.fd(100)\n",
    "    t.left(360/angle)\n",
    "\n",
    "t.end_fill()\n",
    "t.exitonclick()"
   ]
  }
 ],
 "metadata": {
  "kernelspec": {
   "display_name": "Python 3",
   "language": "python",
   "name": "python3"
  },
  "language_info": {
   "codemirror_mode": {
    "name": "ipython",
    "version": 3
   },
   "file_extension": ".py",
   "mimetype": "text/x-python",
   "name": "python",
   "nbconvert_exporter": "python",
   "pygments_lexer": "ipython3",
   "version": "3.7.4"
  }
 },
 "nbformat": 4,
 "nbformat_minor": 2
}
