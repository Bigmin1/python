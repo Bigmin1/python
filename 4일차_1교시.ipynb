{
  "nbformat": 4,
  "nbformat_minor": 0,
  "metadata": {
    "colab": {
      "name": "4일차_1교시.ipynb",
      "provenance": [],
      "authorship_tag": "ABX9TyPCoEUe6axJCZhK62re1WRL",
      "include_colab_link": true
    },
    "kernelspec": {
      "name": "python3",
      "display_name": "Python 3"
    }
  },
  "cells": [
    {
      "cell_type": "markdown",
      "metadata": {
        "id": "view-in-github",
        "colab_type": "text"
      },
      "source": [
        "<a href=\"https://colab.research.google.com/github/LeeM21/python/blob/master/4%EC%9D%BC%EC%B0%A8_1%EA%B5%90%EC%8B%9C.ipynb\" target=\"_parent\"><img src=\"https://colab.research.google.com/assets/colab-badge.svg\" alt=\"Open In Colab\"/></a>"
      ]
    },
    {
      "cell_type": "markdown",
      "metadata": {
        "id": "f6fUigrt75ts",
        "colab_type": "text"
      },
      "source": [
        "**[학습목표]**\n",
        "1. List, Range\n",
        "2. For문"
      ]
    },
    {
      "cell_type": "code",
      "metadata": {
        "id": "Z2mijiCy8P0q",
        "colab_type": "code",
        "colab": {
          "base_uri": "https://localhost:8080/",
          "height": 34
        },
        "outputId": "85606eec-fd1b-4fa2-c5c0-9aa8a79ee162"
      },
      "source": [
        "range(5)\n",
        "a=list(range(10,0,-2))\n",
        "a"
      ],
      "execution_count": 5,
      "outputs": [
        {
          "output_type": "execute_result",
          "data": {
            "text/plain": [
              "[10, 8, 6, 4, 2]"
            ]
          },
          "metadata": {
            "tags": []
          },
          "execution_count": 5
        }
      ]
    },
    {
      "cell_type": "code",
      "metadata": {
        "id": "bAH8i2yr9EaC",
        "colab_type": "code",
        "colab": {
          "base_uri": "https://localhost:8080/",
          "height": 34
        },
        "outputId": "0bb5397a-5ac3-4997-f6b6-33b2346c5161"
      },
      "source": [
        "type(a)"
      ],
      "execution_count": 7,
      "outputs": [
        {
          "output_type": "execute_result",
          "data": {
            "text/plain": [
              "list"
            ]
          },
          "metadata": {
            "tags": []
          },
          "execution_count": 7
        }
      ]
    },
    {
      "cell_type": "code",
      "metadata": {
        "id": "ggRD0_Jp9VfI",
        "colab_type": "code",
        "colab": {
          "base_uri": "https://localhost:8080/",
          "height": 34
        },
        "outputId": "de0f7247-26d0-4f08-bc6c-ff6958efb665"
      },
      "source": [
        "for i in range(1,11):\n",
        " print(i ,end=' ')"
      ],
      "execution_count": 11,
      "outputs": [
        {
          "output_type": "stream",
          "text": [
            "1 2 3 4 5 6 7 8 9 10 "
          ],
          "name": "stdout"
        }
      ]
    },
    {
      "cell_type": "markdown",
      "metadata": {
        "id": "uvtvGEjB9sTB",
        "colab_type": "text"
      },
      "source": [
        "**[문제1**for문을 이용해서 10부터 0까지 -2씩 출력\n"
      ]
    },
    {
      "cell_type": "code",
      "metadata": {
        "id": "nOTKMRSI-Alb",
        "colab_type": "code",
        "colab": {
          "base_uri": "https://localhost:8080/",
          "height": 34
        },
        "outputId": "2c70b830-fb05-4f92-9d19-b22d31461155"
      },
      "source": [
        "for j in range(10,-2,-2):\n",
        " print(j,end=' ')"
      ],
      "execution_count": 17,
      "outputs": [
        {
          "output_type": "stream",
          "text": [
            "10 8 6 4 2 0 "
          ],
          "name": "stdout"
        }
      ]
    },
    {
      "cell_type": "code",
      "metadata": {
        "id": "5s3zLpQ_-jsx",
        "colab_type": "code",
        "colab": {
          "base_uri": "https://localhost:8080/",
          "height": 105
        },
        "outputId": "4993d538-ee4d-4ad5-a96c-820e4c2b9817"
      },
      "source": [
        "a= [1.3,2.1,4.5,5,5.1]\n",
        "for i in a :\n",
        "  print(a)"
      ],
      "execution_count": 19,
      "outputs": [
        {
          "output_type": "stream",
          "text": [
            "[1.3, 2.1, 4.5, 5, 5.1]\n",
            "[1.3, 2.1, 4.5, 5, 5.1]\n",
            "[1.3, 2.1, 4.5, 5, 5.1]\n",
            "[1.3, 2.1, 4.5, 5, 5.1]\n",
            "[1.3, 2.1, 4.5, 5, 5.1]\n"
          ],
          "name": "stdout"
        }
      ]
    },
    {
      "cell_type": "code",
      "metadata": {
        "id": "bVs1_udQ-9xp",
        "colab_type": "code",
        "colab": {
          "base_uri": "https://localhost:8080/",
          "height": 105
        },
        "outputId": "2984823c-efc6-4a41-aad3-febb142eb6ec"
      },
      "source": [
        "a= [1.3,2.1,4.5,5,5.1]\n",
        "for i in range(len(a)) :\n",
        "  print(a[i])"
      ],
      "execution_count": 21,
      "outputs": [
        {
          "output_type": "stream",
          "text": [
            "1.3\n",
            "2.1\n",
            "4.5\n",
            "5\n",
            "5.1\n"
          ],
          "name": "stdout"
        }
      ]
    },
    {
      "cell_type": "code",
      "metadata": {
        "id": "6k65TPRv_jCw",
        "colab_type": "code",
        "colab": {
          "base_uri": "https://localhost:8080/",
          "height": 193
        },
        "outputId": "bd1b31c5-f8b5-4916-aadf-760aede82541"
      },
      "source": [
        "for i in range(1,11):\n",
        " print('Hello Python',i)"
      ],
      "execution_count": 28,
      "outputs": [
        {
          "output_type": "stream",
          "text": [
            "Hello Python 1\n",
            "Hello Python 2\n",
            "Hello Python 3\n",
            "Hello Python 4\n",
            "Hello Python 5\n",
            "Hello Python 6\n",
            "Hello Python 7\n",
            "Hello Python 8\n",
            "Hello Python 9\n",
            "Hello Python 10\n"
          ],
          "name": "stdout"
        }
      ]
    },
    {
      "cell_type": "code",
      "metadata": {
        "id": "ptMMj_bUAWCo",
        "colab_type": "code",
        "colab": {
          "base_uri": "https://localhost:8080/",
          "height": 222
        },
        "outputId": "41fe7df1-9179-45e5-b33d-17410e38aa9b"
      },
      "source": [
        "count=int(input('몇번 반복? >>>> '))\n",
        "for i in range(1,count+1):\n",
        "  print('좋아',i)"
      ],
      "execution_count": 31,
      "outputs": [
        {
          "output_type": "stream",
          "text": [
            "몇번 반복? >>>> count=int(input('몇번 반복? >>>> ')) for i in range(1,count+1):   print('좋아',i)\n"
          ],
          "name": "stdout"
        },
        {
          "output_type": "error",
          "ename": "ValueError",
          "evalue": "ignored",
          "traceback": [
            "\u001b[0;31m---------------------------------------------------------------------------\u001b[0m",
            "\u001b[0;31mValueError\u001b[0m                                Traceback (most recent call last)",
            "\u001b[0;32m<ipython-input-31-1d151bf9fd16>\u001b[0m in \u001b[0;36m<module>\u001b[0;34m()\u001b[0m\n\u001b[0;32m----> 1\u001b[0;31m \u001b[0mcount\u001b[0m\u001b[0;34m=\u001b[0m\u001b[0mint\u001b[0m\u001b[0;34m(\u001b[0m\u001b[0minput\u001b[0m\u001b[0;34m(\u001b[0m\u001b[0;34m'몇번 반복? >>>> '\u001b[0m\u001b[0;34m)\u001b[0m\u001b[0;34m)\u001b[0m\u001b[0;34m\u001b[0m\u001b[0;34m\u001b[0m\u001b[0m\n\u001b[0m\u001b[1;32m      2\u001b[0m \u001b[0;32mfor\u001b[0m \u001b[0mi\u001b[0m \u001b[0;32min\u001b[0m \u001b[0mrange\u001b[0m\u001b[0;34m(\u001b[0m\u001b[0;36m1\u001b[0m\u001b[0;34m,\u001b[0m\u001b[0mcount\u001b[0m\u001b[0;34m+\u001b[0m\u001b[0;36m1\u001b[0m\u001b[0;34m)\u001b[0m\u001b[0;34m:\u001b[0m\u001b[0;34m\u001b[0m\u001b[0;34m\u001b[0m\u001b[0m\n\u001b[1;32m      3\u001b[0m   \u001b[0mprint\u001b[0m\u001b[0;34m(\u001b[0m\u001b[0;34m'좋아'\u001b[0m\u001b[0;34m,\u001b[0m\u001b[0mi\u001b[0m\u001b[0;34m)\u001b[0m\u001b[0;34m\u001b[0m\u001b[0;34m\u001b[0m\u001b[0m\n",
            "\u001b[0;31mValueError\u001b[0m: invalid literal for int() with base 10: \"count=int(input('몇번 반복? >>>> ')) for i in range(1,count+1):   print('좋아',i)\""
          ]
        }
      ]
    },
    {
      "cell_type": "code",
      "metadata": {
        "id": "HKUZMD5nBJhZ",
        "colab_type": "code",
        "colab": {
          "base_uri": "https://localhost:8080/",
          "height": 70
        },
        "outputId": "0b9143d8-38b2-441e-852a-5d53b296044c"
      },
      "source": [
        "a=list(map(int,(input('숫자 입력 >>>> ').split())))\n",
        "sum=0\n",
        "ave=0\n",
        "for i in range(0,len(a)):\n",
        "  sum+=a[i]\n",
        "ave=sum/len(a) \n",
        "print('합계는 : ',sum)\n",
        "print('평군은 : ',ave)"
      ],
      "execution_count": 50,
      "outputs": [
        {
          "output_type": "stream",
          "text": [
            "숫자 입력 >>>> 1 2 5 8 9 10\n",
            "합계는 :  35\n",
            "평군은 :  5.833333333333333\n"
          ],
          "name": "stdout"
        }
      ]
    }
  ]
}